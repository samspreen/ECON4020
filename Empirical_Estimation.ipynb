{
 "cells": [
  {
   "cell_type": "code",
   "execution_count": 244,
   "metadata": {},
   "outputs": [],
   "source": [
    "import pandas as pd\n",
    "import numpy as np\n",
    "import seaborn as sns\n",
    "import statsmodels.api as sm\n",
    "from statsmodels import distributions\n",
    "import statsmodels.formula.api as smf\n",
    "import matplotlib.pyplot as plt\n",
    "import warnings\n",
    "warnings.filterwarnings(\"ignore\")\n",
    "import os\n",
    "os.chdir('/Users/samspreen/Desktop/Spring2020/ECON4020/Project 2/')\n",
    "data = pd.read_csv('data.csv')"
   ]
  },
  {
   "cell_type": "code",
   "execution_count": 200,
   "metadata": {},
   "outputs": [],
   "source": [
    "#data = data.drop_duplicates(subset = ['Project ID','Company ID', 'Bid '],keep='first')"
   ]
  },
  {
   "cell_type": "code",
   "execution_count": 254,
   "metadata": {
    "scrolled": true
   },
   "outputs": [
    {
     "data": {
      "text/html": [
       "<div>\n",
       "<style scoped>\n",
       "    .dataframe tbody tr th:only-of-type {\n",
       "        vertical-align: middle;\n",
       "    }\n",
       "\n",
       "    .dataframe tbody tr th {\n",
       "        vertical-align: top;\n",
       "    }\n",
       "\n",
       "    .dataframe thead th {\n",
       "        text-align: right;\n",
       "    }\n",
       "</style>\n",
       "<table border=\"1\" class=\"dataframe\">\n",
       "  <thead>\n",
       "    <tr style=\"text-align: right;\">\n",
       "      <th></th>\n",
       "      <th>Number of Small Business Bidders</th>\n",
       "      <th>Number of Large Business Bidders</th>\n",
       "      <th>count</th>\n",
       "    </tr>\n",
       "  </thead>\n",
       "  <tbody>\n",
       "    <tr>\n",
       "      <td>10</td>\n",
       "      <td>1</td>\n",
       "      <td>3</td>\n",
       "      <td>238</td>\n",
       "    </tr>\n",
       "    <tr>\n",
       "      <td>1</td>\n",
       "      <td>0</td>\n",
       "      <td>3</td>\n",
       "      <td>189</td>\n",
       "    </tr>\n",
       "    <tr>\n",
       "      <td>9</td>\n",
       "      <td>1</td>\n",
       "      <td>2</td>\n",
       "      <td>168</td>\n",
       "    </tr>\n",
       "    <tr>\n",
       "      <td>2</td>\n",
       "      <td>0</td>\n",
       "      <td>4</td>\n",
       "      <td>131</td>\n",
       "    </tr>\n",
       "    <tr>\n",
       "      <td>11</td>\n",
       "      <td>1</td>\n",
       "      <td>4</td>\n",
       "      <td>129</td>\n",
       "    </tr>\n",
       "  </tbody>\n",
       "</table>\n",
       "</div>"
      ],
      "text/plain": [
       "    Number of Small Business Bidders  Number of Large Business Bidders  count\n",
       "10                                 1                                 3    238\n",
       "1                                  0                                 3    189\n",
       "9                                  1                                 2    168\n",
       "2                                  0                                 4    131\n",
       "11                                 1                                 4    129"
      ]
     },
     "execution_count": 254,
     "metadata": {},
     "output_type": "execute_result"
    }
   ],
   "source": [
    "counts = data['Project ID'].groupby([data['Number of Small Business Bidders'],\n",
    "                                     data['Number of Large Business Bidders']]\n",
    "                                    ).count().reset_index(name='count').sort_values('count', ascending = False)\n",
    "counts.head(5)"
   ]
  },
  {
   "cell_type": "markdown",
   "metadata": {},
   "source": [
    "### Below I am creating a datafram of the auctions with the median estimate value in order to derive the cdf and pdf of cost estimates"
   ]
  },
  {
   "cell_type": "code",
   "execution_count": 203,
   "metadata": {},
   "outputs": [],
   "source": [
    "med_df = data\n",
    "med = np.median(data['Estimate'])\n",
    "upper = data[data['Estimate']>1.25*med]\n",
    "lower = data[data['Estimate']<med/1.25]\n",
    "symmetric_large = med_df[med_df['Number of Small Business Bidders']==0]\n",
    "symmetric_small = med_df[med_df['Number of Large Business Bidders']==0]\n",
    "sym = list(pd.Series(symmetric_large['Project ID']).unique()) + list(pd.Series(symmetric_small['Project ID']).unique())\n",
    "upper_auctions = pd.Series(upper['Project ID']).unique()\n",
    "lower_auctions = pd.Series(lower['Project ID']).unique()\n",
    "remove = list(upper_auctions) + [796] + list(lower_auctions) + list(sym)\n",
    "for i in remove: \n",
    "    i = int(i)\n",
    "    med_df.drop(med_df.loc[med_df['Project ID']==i].index, inplace = True)\n"
   ]
  },
  {
   "cell_type": "code",
   "execution_count": 204,
   "metadata": {},
   "outputs": [
    {
     "data": {
      "text/plain": [
       "627"
      ]
     },
     "execution_count": 204,
     "metadata": {},
     "output_type": "execute_result"
    }
   ],
   "source": [
    "sns.set(style=\"darkgrid\")\n",
    "len(med_df)"
   ]
  },
  {
   "cell_type": "code",
   "execution_count": 212,
   "metadata": {},
   "outputs": [],
   "source": [
    "df_sub = med_df"
   ]
  },
  {
   "cell_type": "code",
   "execution_count": 213,
   "metadata": {},
   "outputs": [
    {
     "name": "stdout",
     "output_type": "stream",
     "text": [
      "Total Entires: 627\n",
      "Total Auctions: 120\n"
     ]
    }
   ],
   "source": [
    "print('Total Entires:', len(df_sub))\n",
    "print('Total Auctions:',len(pd.Series(df_sub['Project ID']).unique()))"
   ]
  },
  {
   "cell_type": "markdown",
   "metadata": {},
   "source": [
    "## Estimating cost $C_i$\n",
    "### Having removed outliers from the two auctions we identified in for estimation, we are now ready to estimate the cost $C_i$ for each bidder using the following functions"
   ]
  },
  {
   "cell_type": "code",
   "execution_count": 214,
   "metadata": {},
   "outputs": [],
   "source": [
    "def valuations(x):\n",
    "    \n",
    "    #pull the following from the data fame\n",
    "    est = x['Estimate']\n",
    "    n_l = x['Number of Large Business Bidders']\n",
    "    n_s = x['Number of Small Business Bidders']\n",
    "    \n",
    "    #Subset by the number of bidders\n",
    "    df_combo = df_sub[df_sub['Number of Large Business Bidders']==n_l]\n",
    "    df_combo = df_combo[df_combo['Number of Small Business Bidders']==n_s]\n",
    "    \n",
    "    #subset the data from above so that we can draw the distributions\n",
    "    small_df = df_combo[df_combo['Small Business Preference']==1]\n",
    "    large_df = df_combo[df_combo['Small Business Preference']==0]\n",
    "    \n",
    "    small_g = sm.nonparametric.KDEMultivariateConditional(endog=small_df['Bid '], \n",
    "                                                          exog=small_df['Estimate'], \n",
    "                                                          dep_type='c',indep_type='c', bw='normal_reference')\n",
    "    \n",
    "    large_g = sm.nonparametric.KDEMultivariateConditional(endog=large_df['Bid '], \n",
    "                                                          exog=large_df['Estimate'], \n",
    "                                                          dep_type='c',indep_type='c', bw='normal_reference')\n",
    "    if x['Small Business Preference'] == 0:\n",
    "        bid = x['Bid '] \n",
    "        p1 = (n_l-1) * large_g.pdf([bid],[est]) / (1 - large_g.cdf([bid],[est]))\n",
    "        p2 = (1.05*n_s) * small_g.pdf([1.05*bid],[est]) / (1-small_g.cdf([1.05*bid],[est]))\n",
    "    \n",
    "        cost = bid - (1 / (p1 + p2))\n",
    "        \n",
    "    if x['Small Business Preference'] == 1:\n",
    "        bid = x['Bid '] \n",
    "        p3 = n_l * large_g.pdf([bid/1.05],[est]) / 1.05*(1-large_g.cdf([bid/1.05],[est]))\n",
    "        p4 = (n_s-1) * small_g.pdf([bid],[est]) / (1 - small_g.cdf([bid],[est]))\n",
    "       \n",
    "        cost = bid - (1 / (p3 + p4))\n",
    "    \n",
    "    return float(cost)\n"
   ]
  },
  {
   "cell_type": "code",
   "execution_count": 215,
   "metadata": {},
   "outputs": [],
   "source": [
    "df_sub['Cost Estimate'] = df_sub.apply(valuations, axis=1)"
   ]
  },
  {
   "cell_type": "code",
   "execution_count": 216,
   "metadata": {},
   "outputs": [
    {
     "name": "stdout",
     "output_type": "stream",
     "text": [
      "Number of Negative Cost Valuations: 23\n"
     ]
    }
   ],
   "source": [
    "print('Number of Negative Cost Valuations:',sum( (df_sub['Cost Estimate'] < 0) * 1))"
   ]
  },
  {
   "cell_type": "code",
   "execution_count": 217,
   "metadata": {},
   "outputs": [],
   "source": [
    "#This code removes the auctions with these negative cost valuations.\n",
    "neg_vals = df_sub[df_sub['Cost Estimate']<0]\n",
    "neg_auctions = pd.Series(neg_vals['Project ID']).unique()\n",
    "remove = list(neg_auctions) \n",
    "for i in remove:\n",
    "    i = int(i)\n",
    "    df_sub.drop(df_sub.loc[df_sub['Project ID']==i].index, inplace = True)\n"
   ]
  },
  {
   "cell_type": "code",
   "execution_count": 218,
   "metadata": {
    "scrolled": true
   },
   "outputs": [
    {
     "data": {
      "text/plain": [
       "Text(0.5, 0, 'Cost')"
      ]
     },
     "execution_count": 218,
     "metadata": {},
     "output_type": "execute_result"
    },
    {
     "data": {
      "image/png": "[encoded data removed]",
      "text/plain": [
       "<Figure size 432x288 with 1 Axes>"
      ]
     },
     "metadata": {},
     "output_type": "display_data"
    }
   ],
   "source": [
    "small_cost = df_sub[df_sub['Small Business Preference']==0]\n",
    "large_cost = df_sub[df_sub['Small Business Preference']==1]\n",
    "max_cost = max(large_cost['Cost Estimate'])\n",
    "p1=sns.kdeplot(data=large_cost[large_cost['Cost Estimate']<max_cost]['Cost Estimate'],cumulative=True,color='Blue',\n",
    "           label = 'Large Business')\n",
    "p1=sns.kdeplot(data=small_cost[small_cost['Cost Estimate']<max_cost]['Cost Estimate'],cumulative=True,color='Red',\n",
    "           label = 'Small Business')\n",
    "p1.set_xlim(0,1200000)\n",
    "p1.set_title('CDF of Recovered Cost', fontsize=18)\n",
    "p1.set_ylabel('Density', fontsize=14)\n",
    "p1.set_xlabel('Cost', fontsize=14)\n",
    "#p1.figure.savefig('cdf_both.jpg', format='jpeg', dpi=800)"
   ]
  },
  {
   "cell_type": "code",
   "execution_count": 253,
   "metadata": {},
   "outputs": [
    {
     "data": {
      "image/png": "[encoded data removed]",
      "text/plain": [
       "<Figure size 432x288 with 1 Axes>"
      ]
     },
     "metadata": {},
     "output_type": "display_data"
    }
   ],
   "source": [
    "p1=sns.kdeplot(data=large_cost[large_cost['Cost Estimate']<max_cost]['Cost Estimate'],cumulative=False,color='Blue',\n",
    "           label = 'Large Business')\n",
    "p1=sns.kdeplot(data=small_cost[small_cost['Cost Estimate']<max_cost]['Cost Estimate'],cumulative=False,color='Red',\n",
    "           label = 'Small Business')\n",
    "\n",
    "\n",
    "p1.set_xlim(0,1200000)\n",
    "plt.title('PDF of Recovered Cost', fontsize=18)\n",
    "plt.xlabel('Cost', fontsize=14)\n",
    "plt.ylabel('Density', fontsize=14)\n",
    "plt.tight_layout()\n",
    "#p1.figure.savefig('pdf_both', format='pdf', dpi=800)"
   ]
  },
  {
   "cell_type": "markdown",
   "metadata": {},
   "source": [
    "## Counterfactual Analysis:\n",
    "### For the counterfactual analysis we will select to asymmetric bidding cases and their respective symmetric cases (see writeup for details) and we will estimate the costs for both cases as they were not included above. We will then be building regression based off of the symmetric cases and then using them to predict the values for our asymmetric case. A detailed explanation of this is included in the paper."
   ]
  },
  {
   "cell_type": "code",
   "execution_count": 255,
   "metadata": {
    "scrolled": false
   },
   "outputs": [],
   "source": [
    "#The Bidder Combination we will be using\n",
    "df_sub = data[data['Number of Small Business Bidders']==2]   \n",
    "df_sub = df_sub[df_sub['Number of Large Business Bidders']==2]\n",
    "df_sub2 = data[data['Number of Small Business Bidders']==2]   \n",
    "df_sub2 = df_sub2[df_sub2['Number of Large Business Bidders']==3]"
   ]
  },
  {
   "cell_type": "markdown",
   "metadata": {},
   "source": [
    "### First we want to remove outliers from the 2 small, 2 large bidder combination which we have stored in the dataframe names 'df_sub'"
   ]
  },
  {
   "cell_type": "code",
   "execution_count": 256,
   "metadata": {},
   "outputs": [],
   "source": [
    "#This cell creates the KDE plot for the density of bids for 2 small 2 large bidders.\n",
    "#it is clearly very right skewed\n",
    "#p1 = sns.distplot(df_sub['Bid '],kde = True, bins = 40, color='#0b559f')\n",
    "#p1.set_title('Bid Density', fontsize=18)\n",
    "#p1.set_ylabel('Density', fontsize=14)\n",
    "#p1.set_xlabel('Bid', fontsize=14)"
   ]
  },
  {
   "cell_type": "code",
   "execution_count": 257,
   "metadata": {},
   "outputs": [],
   "source": [
    "#This cell drops all auctions with bids in the upper 25% quantile. \n",
    "#IMPORTANT NOTE: if your run this cell more than once without reloading in the data\n",
    "#than you are removing even more data. Ex) if your run it twice, you remove the upper 25%\n",
    "#quantile auctions and then your remove the upper 25% quantile of that distribution.\n",
    "#Solution: reload in the data in the above cells if you need to change the quantile param.\n",
    "upper_quant = float(df_sub['Bid '].quantile(0.70))\n",
    "upper = df_sub[df_sub['Bid '] > upper_quant]\n",
    "upper_auctions = pd.Series(upper['Project ID']).unique()\n",
    "remove = list(upper_auctions) + [2050,2115] \n",
    "for i in remove:\n",
    "    i = int(i)\n",
    "    df_sub.drop(df_sub.loc[df_sub['Project ID']==i].index, inplace = True)"
   ]
  },
  {
   "cell_type": "code",
   "execution_count": 258,
   "metadata": {},
   "outputs": [],
   "source": [
    "#p1 = sns.distplot(df_sub['Bid '],kde = True, bins = 20, color='#0b559f')\n",
    "#p1.set_title('Bid Density', fontsize=18)\n",
    "#p1.set_ylabel('Density', fontsize=14)\n",
    "#p1.set_xlabel('Bid', fontsize=14)"
   ]
  },
  {
   "cell_type": "markdown",
   "metadata": {},
   "source": [
    "### Next we want to remove outliers from the 2 small 3 large bidder combinations which is stored in the dataframe 'df_sub2'"
   ]
  },
  {
   "cell_type": "code",
   "execution_count": 259,
   "metadata": {},
   "outputs": [],
   "source": [
    "#This cell creates the KDE plot for the density of bids for 2 small 3 large bidders.\n",
    "#it is clearly very right skewed\n",
    "#p1 = sns.distplot(df_sub2['Bid '],kde = True, bins = 40, color='#0b559f')\n",
    "#p1.set_title('Bid Density', fontsize=18)\n",
    "#p1.set_ylabel('Density', fontsize=14)\n",
    "#p1.set_xlabel('Bid', fontsize=14)"
   ]
  },
  {
   "cell_type": "code",
   "execution_count": 260,
   "metadata": {},
   "outputs": [],
   "source": [
    "#This cell drops all auctions with bids in the upper 25% quantile. \n",
    "#IMPORTANT NOTE: if your run this cell more than once without reloading in the data\n",
    "#than you are removing even more data. Ex) if your run it twice, you remove the upper 25%\n",
    "#quantile auctions and then your remove the upper 25% quantile of that distribution.\n",
    "#Solution: reload in the data in the above cells if you need to change the quantile param.\n",
    "upper_quant = float(df_sub2['Bid '].quantile(0.7))\n",
    "upper = df_sub2[df_sub2['Bid '] > upper_quant]\n",
    "upper_auctions = pd.Series(upper['Project ID']).unique()\n",
    "remove = list(upper_auctions) + [796]\n",
    "for i in remove:\n",
    "    i = int(i)\n",
    "    df_sub2.drop(df_sub2.loc[df_sub2['Project ID']==i].index, inplace = True)"
   ]
  },
  {
   "cell_type": "code",
   "execution_count": 261,
   "metadata": {},
   "outputs": [],
   "source": [
    "#sns.set(style=\"darkgrid\")\n",
    "#p1 = sns.distplot(df_sub2['Bid '],kde = True, bins = 20, color='#0b559f')\n",
    "#p1.set_title('Bid Density', fontsize=18)\n",
    "#p1.set_ylabel('Density', fontsize=14)\n",
    "#p1.set_xlabel('Bid', fontsize=14)"
   ]
  },
  {
   "cell_type": "code",
   "execution_count": 262,
   "metadata": {},
   "outputs": [],
   "source": [
    "#combine the 2 cleaned dataframes into 1\n",
    "df_sub=pd.concat([df_sub,df_sub2])"
   ]
  },
  {
   "cell_type": "code",
   "execution_count": 265,
   "metadata": {},
   "outputs": [],
   "source": [
    "df_sub['Cost Estimate']=df_sub.apply(valuations,axis=1)"
   ]
  },
  {
   "cell_type": "code",
   "execution_count": 266,
   "metadata": {},
   "outputs": [],
   "source": [
    "#This code removes the auctions with these negative cost valuations.\n",
    "neg_vals = df_sub[df_sub['Cost Estimate']<0]\n",
    "neg_auctions = pd.Series(neg_vals['Project ID']).unique()\n",
    "remove = list(neg_auctions) \n",
    "for i in remove:\n",
    "    i = int(i)\n",
    "    df_sub.drop(df_sub.loc[df_sub['Project ID']==i].index, inplace = True)\n"
   ]
  },
  {
   "cell_type": "code",
   "execution_count": 267,
   "metadata": {},
   "outputs": [
    {
     "name": "stdout",
     "output_type": "stream",
     "text": [
      "Total Entires: 117\n",
      "Total Auctions: 26\n"
     ]
    }
   ],
   "source": [
    "print('Total Entires:', len(df_sub))\n",
    "print('Total Auctions:',len(pd.Series(df_sub['Project ID']).unique()))"
   ]
  },
  {
   "cell_type": "code",
   "execution_count": 268,
   "metadata": {},
   "outputs": [],
   "source": [
    "#We will use the 2 small 0 large and 2 large 0 small cases for counterfactual analysis\n",
    "cf_small = data[data['Number of Small Business Bidders']==2]\n",
    "cf_small = cf_small[cf_small['Number of Large Business Bidders']==0]\n",
    "cf_large = data[data['Number of Small Business Bidders']==0]\n",
    "cf_large2 = cf_large[cf_large['Number of Large Business Bidders']==2]\n",
    "cf_large3 = cf_large[cf_large['Number of Large Business Bidders']==3]\n",
    "cf_large = pd.concat([cf_large2,cf_large3])"
   ]
  },
  {
   "cell_type": "code",
   "execution_count": 269,
   "metadata": {},
   "outputs": [],
   "source": [
    "#Drop Outliers\n",
    "upper_quant = float(cf_small['Bid '].quantile(0.75))\n",
    "upper = cf_small[cf_small['Bid '] > upper_quant]\n",
    "upper_auctions = pd.Series(upper['Project ID']).unique()\n",
    "remove = list(upper_auctions) \n",
    "for i in remove:\n",
    "    i = int(i)\n",
    "    cf_small.drop(cf_small.loc[cf_small['Project ID']==i].index, inplace = True)\n"
   ]
  },
  {
   "cell_type": "code",
   "execution_count": 270,
   "metadata": {},
   "outputs": [],
   "source": [
    "#Drop Outliers\n",
    "upper_quant = float(cf_large['Bid '].quantile(0.75))\n",
    "upper = cf_large[cf_large['Bid '] > upper_quant]\n",
    "upper_auctions = pd.Series(upper['Project ID']).unique()\n",
    "remove = list(upper_auctions) \n",
    "for i in remove:\n",
    "    i = int(i)\n",
    "    cf_large.drop(cf_large.loc[cf_large['Project ID']==i].index, inplace = True)\n"
   ]
  },
  {
   "cell_type": "markdown",
   "metadata": {},
   "source": [
    "## The function below calculates the valuations for the symmetric auctions which we will use for our counterfactual cases."
   ]
  },
  {
   "cell_type": "code",
   "execution_count": 271,
   "metadata": {},
   "outputs": [],
   "source": [
    "def symmetric_value(x):\n",
    "    \n",
    "    #pull the following from the data fame\n",
    "    bid = x['Bid ']\n",
    "    est = x['Estimate']\n",
    "    n_l = x['Number of Large Business Bidders']\n",
    "    n_s = x['Number of Small Business Bidders']\n",
    "    preference = x['Small Business Preference']\n",
    "    \n",
    "    #if we are looking at the small business case\n",
    "    if n_s > 0:\n",
    "        \n",
    "        df = cf_small[cf_small['Number of Small Business Bidders']==n_s]\n",
    "    \n",
    "        \n",
    "        g_dist = sm.nonparametric.KDEMultivariateConditional(endog=df['Bid '], \n",
    "                                                          exog=df['Estimate'], \n",
    "                                                          dep_type='c',indep_type='c', bw='normal_reference')\n",
    "        denom = (n_s-1) * g_dist.pdf([bid],[est]) /(1 - g_dist.cdf([bid],[est]))\n",
    "        \n",
    "        cost = bid - (1/denom)\n",
    "        \n",
    "        if cost < 0:\n",
    "            cost = np.mean(cf_small['Bid '])\n",
    "    \n",
    "    #if we are looking at the large business case \n",
    "    if n_l > 0:\n",
    "        \n",
    "        df = cf_large[cf_large['Number of Small Business Bidders']==n_s]\n",
    "        \n",
    "        g_dist = sm.nonparametric.KDEMultivariateConditional(endog=df['Bid '], \n",
    "                                                          exog=df['Estimate'], \n",
    "                                                          dep_type='c',indep_type='c', bw='normal_reference')\n",
    "        denom = (n_l-1) * g_dist.pdf([bid],[est]) /(1 - g_dist.cdf([bid],[est]))\n",
    "        \n",
    "        cost = bid - (1/denom)\n",
    "        \n",
    "        if cost < 0:\n",
    "            cost = np.mean(cf_large['Bid '])\n",
    "    \n",
    "    return float(cost)\n",
    "   "
   ]
  },
  {
   "cell_type": "code",
   "execution_count": 283,
   "metadata": {},
   "outputs": [
    {
     "name": "stdout",
     "output_type": "stream",
     "text": [
      "Total Entires: 117\n",
      "Total Auctions: 26\n"
     ]
    }
   ],
   "source": [
    "print('Total Entires:', len(df_sub))\n",
    "print('Total Auctions:',len(pd.Series(df_sub['Project ID']).unique()))"
   ]
  },
  {
   "cell_type": "code",
   "execution_count": 272,
   "metadata": {},
   "outputs": [],
   "source": [
    "cf_small['Cost Estimate'] = cf_small.apply(symmetric_value, axis=1)\n",
    "cf_large['Cost Estimate'] = cf_large.apply(symmetric_value, axis=1)"
   ]
  },
  {
   "cell_type": "code",
   "execution_count": 274,
   "metadata": {},
   "outputs": [],
   "source": [
    "#Create a Cost squared variable for our regression\n",
    "cf_small['Cost Sq']=cf_small['Cost Estimate']**2\n",
    "cf_large['Cost Sq']=cf_large['Cost Estimate']**2"
   ]
  },
  {
   "cell_type": "markdown",
   "metadata": {},
   "source": [
    "### The function below takes in a bid, cost estimate, cost estimate squared and the number of bidders in an auction and from the data. If the business is small it predicts its bid using the regression trained on the symmetric small bidders case and visa versa for large businesses"
   ]
  },
  {
   "cell_type": "code",
   "execution_count": 299,
   "metadata": {},
   "outputs": [],
   "source": [
    "def bid_no_disc(x):\n",
    "    \n",
    "    n_l = x['Number of Large Business Bidders']\n",
    "    n_s = x['Number of Small Business Bidders']\n",
    "    cost = x['Cost Estimate']\n",
    "    cost_sq = x['Cost Estimate']**2\n",
    "    estimate = x['Estimate']\n",
    "\n",
    "    if x['Small Business Preference'] == 1:\n",
    "        \n",
    "     \n",
    "        \n",
    "        y_values_small=cf_small['Bid ']\n",
    "        x_values_small=cf_small[['Cost Estimate','Cost Sq','Number of Small Business Bidders','Estimate']]\n",
    "    \n",
    "        model = sm.OLS(y_values_small,x_values_small).fit()  \n",
    "        predicted_bid = model.predict([cost,cost_sq,n_s,estimate])\n",
    "        \n",
    "    if x['Small Business Preference'] == 0:\n",
    "        \n",
    "\n",
    "        \n",
    "        y_values_large=cf_large['Bid ']\n",
    "        x_values_large=cf_large[['Cost Estimate','Cost Sq','Number of Large Business Bidders','Estimate']]\n",
    "    \n",
    "        \n",
    "        model = sm.OLS(y_values_large,x_values_large).fit()  \n",
    "        predicted_bid = model.predict([cost,cost_sq,n_l,estimate])\n",
    "        \n",
    "    \n",
    "    return float(predicted_bid)"
   ]
  },
  {
   "cell_type": "code",
   "execution_count": 300,
   "metadata": {},
   "outputs": [],
   "source": [
    "df_sub['Bid No Discount'] = df_sub.apply(bid_no_disc,axis=1)"
   ]
  },
  {
   "cell_type": "code",
   "execution_count": 301,
   "metadata": {},
   "outputs": [
    {
     "name": "stdout",
     "output_type": "stream",
     "text": [
      "Total Entires: 117\n",
      "Total Auctions: 26\n"
     ]
    }
   ],
   "source": [
    "print('Total Entires:', len(df_sub))\n",
    "print('Total Auctions:',len(pd.Series(df_sub['Project ID']).unique()))"
   ]
  },
  {
   "cell_type": "code",
   "execution_count": 302,
   "metadata": {},
   "outputs": [],
   "source": [
    "keep=['Project ID','Company ID','Bid ','Small Business Preference','rank','Cost Estimate','Bid No Discount']\n",
    "results_df = df_sub[keep]\n",
    "results_df['Rank w/d'] = results_df['rank']"
   ]
  },
  {
   "cell_type": "code",
   "execution_count": 303,
   "metadata": {},
   "outputs": [],
   "source": [
    "auctions = pd.Series(results_df['Project ID']).unique()\n",
    "data2 = pd.DataFrame()\n",
    "for i in list(auctions):\n",
    "    df = results_df[results_df['Project ID'] == i]\n",
    "    df['Rank no/d'] = df['Bid No Discount'].rank()\n",
    "    df = pd.DataFrame(df)\n",
    "    data2 = data2.append(df)\n",
    "\n",
    "ranked = data2"
   ]
  },
  {
   "cell_type": "code",
   "execution_count": 304,
   "metadata": {},
   "outputs": [],
   "source": [
    "winner_d=ranked[ranked['Rank w/d']==1]\n",
    "winner_no_d=ranked[ranked['Rank no/d']==1]"
   ]
  },
  {
   "cell_type": "code",
   "execution_count": 305,
   "metadata": {},
   "outputs": [
    {
     "name": "stdout",
     "output_type": "stream",
     "text": [
      "Total Cost Without Discount: 9746417.02577869\n",
      "Total Cost With Discount: 8615837.35\n",
      "Percent Change when discount implemented -11.599951785239387\n"
     ]
    }
   ],
   "source": [
    "cost_no_discount=float(sum(winner_no_d['Bid No Discount']))\n",
    "cost_discount=sum(winner_d['Bid '])\n",
    "print('Total Cost Without Discount:', cost_no_discount)\n",
    "print('Total Cost With Discount:', cost_discount)\n",
    "print('Percent Change when discount implemented', \n",
    "      100*(cost_discount - cost_no_discount) / cost_no_discount)"
   ]
  },
  {
   "cell_type": "code",
   "execution_count": 306,
   "metadata": {},
   "outputs": [
    {
     "name": "stdout",
     "output_type": "stream",
     "text": [
      "Average Change in Project Cost (W/D - No/D): -43483.8336837958\n"
     ]
    }
   ],
   "source": [
    "print('Average Change in Project Cost (W/D - No/D):', \n",
    "      (sum(winner_d['Bid ']) - sum(winner_no_d['Bid No Discount']))/len(winner_d))"
   ]
  },
  {
   "cell_type": "code",
   "execution_count": 307,
   "metadata": {},
   "outputs": [
    {
     "name": "stdout",
     "output_type": "stream",
     "text": [
      "Avg. Contract Estimate: 365854.1538461539\n"
     ]
    }
   ],
   "source": [
    "avg_est=sum(df_sub[df_sub['rank']==1]['Estimate'])/len(df_sub[df_sub['rank']==1])\n",
    "print('Avg. Contract Estimate:',avg_est)"
   ]
  },
  {
   "cell_type": "code",
   "execution_count": 308,
   "metadata": {},
   "outputs": [
    {
     "name": "stdout",
     "output_type": "stream",
     "text": [
      "Small Wins W/Disc 12\n",
      "Small Wins No Disct 12\n"
     ]
    }
   ],
   "source": [
    "print('Small Wins W/Disc', sum(winner_d['Small Business Preference']))\n",
    "print('Small Wins No Disct',sum(winner_no_d['Small Business Preference']))"
   ]
  },
  {
   "cell_type": "code",
   "execution_count": 309,
   "metadata": {},
   "outputs": [],
   "source": [
    "small=ranked[ranked['Small Business Preference']==1]\n",
    "large=ranked[ranked['Small Business Preference']==0]"
   ]
  },
  {
   "cell_type": "code",
   "execution_count": 310,
   "metadata": {},
   "outputs": [],
   "source": [
    "sm_disc=sum(small['Bid '])\n",
    "sm_no=sum(small['Bid No Discount'])\n",
    "lg_disc=sum(large['Bid '])\n",
    "lg_no=sum(large['Bid No Discount'])"
   ]
  },
  {
   "cell_type": "code",
   "execution_count": 311,
   "metadata": {},
   "outputs": [
    {
     "name": "stdout",
     "output_type": "stream",
     "text": [
      "% Small Change With Discount: -1.1616645720773129\n",
      "% Large Change With Discount: -5.1370591312372085\n"
     ]
    }
   ],
   "source": [
    "print('% Small Change With Discount:', 100*(sm_disc-sm_no)/sm_no)\n",
    "print('% Large Change With Discount:', 100*(lg_disc-lg_no)/lg_no)"
   ]
  }
 ],
 "metadata": {
  "kernelspec": {
   "display_name": "Python 3",
   "language": "python",
   "name": "python3"
  },
  "language_info": {
   "codemirror_mode": {
    "name": "ipython",
    "version": 3
   },
   "file_extension": ".py",
   "mimetype": "text/x-python",
   "name": "python",
   "nbconvert_exporter": "python",
   "pygments_lexer": "ipython3",
   "version": "3.7.4"
  }
 },
 "nbformat": 4,
 "nbformat_minor": 2
}
