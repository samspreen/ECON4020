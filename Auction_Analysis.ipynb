{
 "cells": [
  {
   "cell_type": "code",
   "execution_count": 2,
   "metadata": {},
   "outputs": [],
   "source": [
    "#Load In packages and data\n",
    "import pandas as pd\n",
    "import numpy as np\n",
    "import seaborn as sns\n",
    "import math\n",
    "import matplotlib.pyplot as plt\n",
    "import statsmodels.api as sm\n",
    "import statsmodels.formula.api as smf\n",
    "import os\n",
    "os.chdir('/Users/samspreen/Desktop/Spring2020/ECON4020/Project 2/')\n",
    "data = pd.read_csv('Caltrans_bid_preference.csv')\n",
    "pd.options.display.float_format = '{:.2f}'.format"
   ]
  },
  {
   "cell_type": "markdown",
   "metadata": {},
   "source": [
    "The first function in the cell below applys the bid discount to the bids submitted by small business bidders. The second function takes the logarithm of the bids. When applying both functions to the dataframe, I am creating a new column (variable) to store the transformed bids."
   ]
  },
  {
   "cell_type": "code",
   "execution_count": 3,
   "metadata": {
    "scrolled": true
   },
   "outputs": [],
   "source": [
    "def adjustbid(x):\n",
    "    if x['Small Business Preference'] == 1:\n",
    "        adjusted = x['Bid '] * 0.95\n",
    "    elif x['Small Business Preference'] == 0:\n",
    "        adjusted = x['Bid '] \n",
    "    return adjusted\n",
    "\n",
    "data['new bid'] = data.apply(adjustbid, axis = 1)\n",
    "\n",
    "def logged(x):\n",
    "    logbid = math.log(x,10)\n",
    "    return logbid\n",
    "\n",
    "data['Log Bid'] = data['Bid '].apply(logged)"
   ]
  },
  {
   "cell_type": "markdown",
   "metadata": {},
   "source": [
    "The loop below goes through the dataframe and ranks the bids in ascending order so that the lowest bid is given the value 1, the second lowest 2, etc."
   ]
  },
  {
   "cell_type": "code",
   "execution_count": 4,
   "metadata": {},
   "outputs": [
    {
     "name": "stderr",
     "output_type": "stream",
     "text": [
      "/opt/anaconda3/lib/python3.7/site-packages/ipykernel_launcher.py:5: SettingWithCopyWarning: \n",
      "A value is trying to be set on a copy of a slice from a DataFrame.\n",
      "Try using .loc[row_indexer,col_indexer] = value instead\n",
      "\n",
      "See the caveats in the documentation: http://pandas.pydata.org/pandas-docs/stable/user_guide/indexing.html#returning-a-view-versus-a-copy\n",
      "  \"\"\"\n"
     ]
    }
   ],
   "source": [
    "auctions = pd.Series(data['Project ID']).unique()\n",
    "data2 = pd.DataFrame()\n",
    "for i in list(auctions):\n",
    "    df = data[data['Project ID'] == i]\n",
    "    df['rank'] = df['new bid'].rank()\n",
    "    df = pd.DataFrame(df)\n",
    "    data2 = data2.append(df)\n",
    "\n",
    "data = data2"
   ]
  },
  {
   "cell_type": "markdown",
   "metadata": {},
   "source": [
    "Below I create two new variables, the first is the total number of bidders in each auctions, the second is the difference between the bid submitted and the engineers' estimate"
   ]
  },
  {
   "cell_type": "code",
   "execution_count": 5,
   "metadata": {},
   "outputs": [],
   "source": [
    "data['Bidder Count'] = data['Number of Small Business Bidders'] + data['Number of Large Business Bidders']\n",
    "data['diff'] = data['Bid '] - data['Estimate']"
   ]
  },
  {
   "cell_type": "markdown",
   "metadata": {},
   "source": [
    "Next we must remove auctions with errors and other characteristics that will make our ability to estimate more difficult. To begin, we remove auctions with only 1 bidder as this undermines the assumptions of a competitive auction environment. We also remove the auctions with bids in the upper and lower 1% quantiles as these auctions have outlier values that will make Kernel Density Estimation incredibly difficult."
   ]
  },
  {
   "cell_type": "code",
   "execution_count": 6,
   "metadata": {},
   "outputs": [],
   "source": [
    "#Auctions with only one bidder\n",
    "one_bidder = data[data['Bidder Count']==1]\n",
    "one_bidder = list(one_bidder['Project ID'])\n",
    "#Quantiles to drop outliers \n",
    "low_quant = float(data['Bid '].quantile(0.01))\n",
    "upper_quant = float(data['Bid '].quantile(0.99))\n",
    "below = data[data['Bid '] < low_quant]\n",
    "upper = data[data['Bid '] > upper_quant]\n",
    "below_auctions = pd.Series(below['Project ID']).unique()\n",
    "upper_auctions = pd.Series(upper['Project ID']).unique()\n",
    "remove = list(below_auctions) + list(upper_auctions) + list(one_bidder)"
   ]
  },
  {
   "cell_type": "markdown",
   "metadata": {},
   "source": [
    "Lastly, several auctions had repeat bidders and other data integrity errors and these auctions have the ID's seen in the \"invalid_auctions\" variable. I now loop through the dataframe and remove the auctions identified above and in \"invalid_auctions.\""
   ]
  },
  {
   "cell_type": "code",
   "execution_count": 7,
   "metadata": {},
   "outputs": [],
   "source": [
    "invalid_auctions = [2188, 2124, 2065, 2082]\n",
    "invalid_auctions = invalid_auctions + remove\n",
    "for i in invalid_auctions:\n",
    "    i = int(i)\n",
    "    data.drop(data.loc[data['Project ID']==i].index, inplace = True)"
   ]
  },
  {
   "cell_type": "code",
   "execution_count": 8,
   "metadata": {},
   "outputs": [],
   "source": [
    "sns.set(style=\"darkgrid\")"
   ]
  },
  {
   "cell_type": "code",
   "execution_count": 9,
   "metadata": {},
   "outputs": [
    {
     "name": "stdout",
     "output_type": "stream",
     "text": [
      "['#fedbcc', '#fcaf93', '#fc8161', '#f44f39', '#d52221', '#aa1016']\n"
     ]
    }
   ],
   "source": [
    "pal = sns.color_palette(\"Reds\")\n",
    "print(pal.as_hex())\n",
    "#['#dbe9f6', '#bad6eb', '#89bedc', '#539ecd', '#2b7bba', '#0b559f']"
   ]
  },
  {
   "cell_type": "code",
   "execution_count": 10,
   "metadata": {
    "scrolled": true
   },
   "outputs": [
    {
     "data": {
      "text/plain": [
       "Text(0, 0.5, 'Frequency')"
      ]
     },
     "execution_count": 10,
     "metadata": {},
     "output_type": "execute_result"
    },
    {
     "data": {
      "image/png": "[encoded data removed]",
      "text/plain": [
       "<Figure size 432x288 with 1 Axes>"
      ]
     },
     "metadata": {},
     "output_type": "display_data"
    }
   ],
   "source": [
    "p1 = sns.distplot(data['Log Bid'],kde = False, bins = 30, color='Blue')\n",
    "plt.title('Bid Distribution', fontsize=18)\n",
    "plt.xlabel('Log Bid', fontsize=14)\n",
    "plt.ylabel('Frequency', fontsize=14)\n",
    "#p1.figure.savefig('bidhist.jpg', format='jpeg', dpi=800)"
   ]
  },
  {
   "cell_type": "code",
   "execution_count": 11,
   "metadata": {},
   "outputs": [],
   "source": [
    "def fivesummary(x):\n",
    "    maximum = np.max(x)\n",
    "    minimum = np.min(x)\n",
    "    q1 = x.quantile(0.25)\n",
    "    q3 = x.quantile(0.75)\n",
    "    med = np.median(x)\n",
    "    return minimum, q1, med, q3, maximum"
   ]
  },
  {
   "cell_type": "code",
   "execution_count": 12,
   "metadata": {},
   "outputs": [
    {
     "data": {
      "image/png": "[encoded data removed]",
      "text/plain": [
       "<Figure size 432x288 with 1 Axes>"
      ]
     },
     "metadata": {},
     "output_type": "display_data"
    }
   ],
   "source": [
    "big = data[data['Small Business Preference']==0]\n",
    "small = data[data['Small Business Preference']==1]\n",
    "p2 = sns.distplot([big['Log Bid'],small['Log Bid']], color = ['Blue','Red'], kde = False, bins = 30)\n",
    "plt.title('Bid Distribution', fontsize=18)\n",
    "plt.xlabel('Log Bid', fontsize=14)\n",
    "plt.ylabel('Frequency', fontsize=14)\n",
    "plt.legend(['Large Business', 'Small Business'], loc='upper right');\n",
    "#p2.figure.savefig('bidhist2.jpg', format='jpeg', dpi=800)"
   ]
  },
  {
   "cell_type": "code",
   "execution_count": 13,
   "metadata": {
    "scrolled": true
   },
   "outputs": [
    {
     "name": "stdout",
     "output_type": "stream",
     "text": [
      "(106210.0, 318227.0, 514209.0, 846282.0, 11777770.0)\n",
      "(103845.0, 245786.0, 395526.0, 601299.0, 5965853.0)\n",
      "(103845.0, 288362.25, 467452.5, 738929.125, 11777770.0)\n",
      "(2, 4.0, 5.0, 7.0, 20)\n"
     ]
    }
   ],
   "source": [
    "print(fivesummary(big['Bid ']))\n",
    "print(fivesummary(small['Bid ']))\n",
    "print(fivesummary(data['Bid ']))\n",
    "print(fivesummary(data['Bidder Count']))"
   ]
  },
  {
   "cell_type": "code",
   "execution_count": 75,
   "metadata": {},
   "outputs": [
    {
     "data": {
      "image/png": "[encoded data removed]",
      "text/plain": [
       "<Figure size 432x288 with 1 Axes>"
      ]
     },
     "metadata": {},
     "output_type": "display_data"
    }
   ],
   "source": [
    "winner = data[data['rank']==1]\n",
    "p3 = sns.barplot(x=winner['Bidder Count'], y=winner['diff'], saturation=1, \n",
    "                 color = 'Blue', alpha=0.5, errcolor='black')\n",
    "plt.title('Difference Between Winning Bid and Estimate', fontsize=15)\n",
    "plt.xlabel('Bidder Count', fontsize=14)\n",
    "plt.ylabel('Average Difference', fontsize=14)\n",
    "plt.tight_layout()\n",
    "#p3.figure.savefig('boxplot.jpg', format='jpeg', dpi=1000)"
   ]
  },
  {
   "cell_type": "code",
   "execution_count": 34,
   "metadata": {},
   "outputs": [
    {
     "data": {
      "text/html": [
       "<div>\n",
       "<style scoped>\n",
       "    .dataframe tbody tr th:only-of-type {\n",
       "        vertical-align: middle;\n",
       "    }\n",
       "\n",
       "    .dataframe tbody tr th {\n",
       "        vertical-align: top;\n",
       "    }\n",
       "\n",
       "    .dataframe thead th {\n",
       "        text-align: right;\n",
       "    }\n",
       "</style>\n",
       "<table border=\"1\" class=\"dataframe\">\n",
       "  <thead>\n",
       "    <tr style=\"text-align: right;\">\n",
       "      <th></th>\n",
       "      <th>Bidder Count</th>\n",
       "      <th>Count</th>\n",
       "    </tr>\n",
       "  </thead>\n",
       "  <tbody>\n",
       "    <tr>\n",
       "      <td>0</td>\n",
       "      <td>2</td>\n",
       "      <td>104</td>\n",
       "    </tr>\n",
       "    <tr>\n",
       "      <td>1</td>\n",
       "      <td>3</td>\n",
       "      <td>150</td>\n",
       "    </tr>\n",
       "    <tr>\n",
       "      <td>2</td>\n",
       "      <td>4</td>\n",
       "      <td>137</td>\n",
       "    </tr>\n",
       "    <tr>\n",
       "      <td>3</td>\n",
       "      <td>5</td>\n",
       "      <td>87</td>\n",
       "    </tr>\n",
       "    <tr>\n",
       "      <td>4</td>\n",
       "      <td>6</td>\n",
       "      <td>61</td>\n",
       "    </tr>\n",
       "    <tr>\n",
       "      <td>5</td>\n",
       "      <td>7</td>\n",
       "      <td>35</td>\n",
       "    </tr>\n",
       "    <tr>\n",
       "      <td>6</td>\n",
       "      <td>8</td>\n",
       "      <td>30</td>\n",
       "    </tr>\n",
       "    <tr>\n",
       "      <td>7</td>\n",
       "      <td>9</td>\n",
       "      <td>13</td>\n",
       "    </tr>\n",
       "    <tr>\n",
       "      <td>8</td>\n",
       "      <td>10</td>\n",
       "      <td>10</td>\n",
       "    </tr>\n",
       "    <tr>\n",
       "      <td>9</td>\n",
       "      <td>11</td>\n",
       "      <td>3</td>\n",
       "    </tr>\n",
       "    <tr>\n",
       "      <td>10</td>\n",
       "      <td>12</td>\n",
       "      <td>5</td>\n",
       "    </tr>\n",
       "    <tr>\n",
       "      <td>11</td>\n",
       "      <td>13</td>\n",
       "      <td>1</td>\n",
       "    </tr>\n",
       "    <tr>\n",
       "      <td>12</td>\n",
       "      <td>14</td>\n",
       "      <td>1</td>\n",
       "    </tr>\n",
       "    <tr>\n",
       "      <td>13</td>\n",
       "      <td>15</td>\n",
       "      <td>1</td>\n",
       "    </tr>\n",
       "    <tr>\n",
       "      <td>14</td>\n",
       "      <td>19</td>\n",
       "      <td>2</td>\n",
       "    </tr>\n",
       "    <tr>\n",
       "      <td>15</td>\n",
       "      <td>20</td>\n",
       "      <td>1</td>\n",
       "    </tr>\n",
       "  </tbody>\n",
       "</table>\n",
       "</div>"
      ],
      "text/plain": [
       "    Bidder Count  Count\n",
       "0              2    104\n",
       "1              3    150\n",
       "2              4    137\n",
       "3              5     87\n",
       "4              6     61\n",
       "5              7     35\n",
       "6              8     30\n",
       "7              9     13\n",
       "8             10     10\n",
       "9             11      3\n",
       "10            12      5\n",
       "11            13      1\n",
       "12            14      1\n",
       "13            15      1\n",
       "14            19      2\n",
       "15            20      1"
      ]
     },
     "execution_count": 34,
     "metadata": {},
     "output_type": "execute_result"
    }
   ],
   "source": [
    "win_gb=winner['Bidder Count'].groupby(winner['Bidder Count']).count().reset_index(name='Count')\n",
    "win_gb = pd.DataFrame(win_gb)\n",
    "win_gb"
   ]
  },
  {
   "cell_type": "code",
   "execution_count": 77,
   "metadata": {},
   "outputs": [
    {
     "data": {
      "text/plain": [
       "Text(0, 0.5, 'Number of Auctions')"
      ]
     },
     "execution_count": 77,
     "metadata": {},
     "output_type": "execute_result"
    },
    {
     "data": {
      "image/png": "[encoded data removed]",
      "text/plain": [
       "<Figure size 432x288 with 1 Axes>"
      ]
     },
     "metadata": {},
     "output_type": "display_data"
    }
   ],
   "source": [
    "p4 = sns.barplot(x=win_gb['Bidder Count'],y=win_gb['Count'], saturation=1, color='Blue',alpha=0.5)\n",
    "plt.title('Bidders Per Auction', fontsize=15)\n",
    "plt.xlabel('Number of Bidders', fontsize=14)\n",
    "plt.ylabel('Number of Auctions', fontsize=14)\n",
    "#p4.figure.savefig('boxplot2.jpg', format='jpeg', dpi=1000)"
   ]
  },
  {
   "cell_type": "code",
   "execution_count": 36,
   "metadata": {
    "scrolled": false
   },
   "outputs": [
    {
     "name": "stdout",
     "output_type": "stream",
     "text": [
      "                            OLS Regression Results                            \n",
      "==============================================================================\n",
      "Dep. Variable:                    Bid   R-squared:                       0.892\n",
      "Model:                            OLS   Adj. R-squared:                  0.892\n",
      "Method:                 Least Squares   F-statistic:                     1755.\n",
      "Date:                Tue, 14 Apr 2020   Prob (F-statistic):          2.08e-307\n",
      "Time:                        09:42:39   Log-Likelihood:                -8902.0\n",
      "No. Observations:                 641   AIC:                         1.781e+04\n",
      "Df Residuals:                     637   BIC:                         1.783e+04\n",
      "Df Model:                           3                                         \n",
      "Covariance Type:            nonrobust                                         \n",
      "==============================================================================\n",
      "                 coef    std err          t      P>|t|      [0.025      0.975]\n",
      "------------------------------------------------------------------------------\n",
      "Intercept   2.003e+05   2.44e+04      8.204      0.000    1.52e+05    2.48e+05\n",
      "SmallCount -1.873e+04   5570.464     -3.362      0.001   -2.97e+04   -7791.878\n",
      "LargeCount -4.268e+04   6749.947     -6.323      0.000   -5.59e+04   -2.94e+04\n",
      "Estimate       0.9199      0.013     70.151      0.000       0.894       0.946\n",
      "==============================================================================\n",
      "Omnibus:                      472.899   Durbin-Watson:                   1.506\n",
      "Prob(Omnibus):                  0.000   Jarque-Bera (JB):           150790.360\n",
      "Skew:                          -2.128   Prob(JB):                         0.00\n",
      "Kurtosis:                      78.018   Cond. No.                     2.51e+06\n",
      "==============================================================================\n",
      "\n",
      "Warnings:\n",
      "[1] Standard Errors assume that the covariance matrix of the errors is correctly specified.\n",
      "[2] The condition number is large, 2.51e+06. This might indicate that there are\n",
      "strong multicollinearity or other numerical problems.\n"
     ]
    },
    {
     "name": "stderr",
     "output_type": "stream",
     "text": [
      "/opt/anaconda3/lib/python3.7/site-packages/ipykernel_launcher.py:1: SettingWithCopyWarning: \n",
      "A value is trying to be set on a copy of a slice from a DataFrame.\n",
      "Try using .loc[row_indexer,col_indexer] = value instead\n",
      "\n",
      "See the caveats in the documentation: http://pandas.pydata.org/pandas-docs/stable/user_guide/indexing.html#returning-a-view-versus-a-copy\n",
      "  \"\"\"Entry point for launching an IPython kernel.\n",
      "/opt/anaconda3/lib/python3.7/site-packages/ipykernel_launcher.py:2: SettingWithCopyWarning: \n",
      "A value is trying to be set on a copy of a slice from a DataFrame.\n",
      "Try using .loc[row_indexer,col_indexer] = value instead\n",
      "\n",
      "See the caveats in the documentation: http://pandas.pydata.org/pandas-docs/stable/user_guide/indexing.html#returning-a-view-versus-a-copy\n",
      "  \n",
      "/opt/anaconda3/lib/python3.7/site-packages/ipykernel_launcher.py:3: SettingWithCopyWarning: \n",
      "A value is trying to be set on a copy of a slice from a DataFrame.\n",
      "Try using .loc[row_indexer,col_indexer] = value instead\n",
      "\n",
      "See the caveats in the documentation: http://pandas.pydata.org/pandas-docs/stable/user_guide/indexing.html#returning-a-view-versus-a-copy\n",
      "  This is separate from the ipykernel package so we can avoid doing imports until\n",
      "/opt/anaconda3/lib/python3.7/site-packages/ipykernel_launcher.py:4: SettingWithCopyWarning: \n",
      "A value is trying to be set on a copy of a slice from a DataFrame.\n",
      "Try using .loc[row_indexer,col_indexer] = value instead\n",
      "\n",
      "See the caveats in the documentation: http://pandas.pydata.org/pandas-docs/stable/user_guide/indexing.html#returning-a-view-versus-a-copy\n",
      "  after removing the cwd from sys.path.\n"
     ]
    }
   ],
   "source": [
    "winner['Bid'] = winner['Bid ']\n",
    "winner['BidderCount'] = winner['Bidder Count']\n",
    "winner['SmallCount'] = winner['Number of Small Business Bidders']\n",
    "winner['LargeCount'] = winner['Number of Large Business Bidders']\n",
    "\n",
    "\n",
    "#add intercept \n",
    "model = smf.ols(formula = 'Bid~SmallCount+LargeCount+Estimate',data=winner, missing = 'drop').fit()  # fit the model\n",
    "print(model.summary()) "
   ]
  },
  {
   "cell_type": "code",
   "execution_count": 37,
   "metadata": {},
   "outputs": [
    {
     "name": "stdout",
     "output_type": "stream",
     "text": [
      "641\n",
      "501\n",
      "243\n"
     ]
    },
    {
     "data": {
      "text/plain": [
       "40.24960998439938"
      ]
     },
     "execution_count": 37,
     "metadata": {},
     "output_type": "execute_result"
    }
   ],
   "source": [
    "#How many?\n",
    "print(len(pd.Series(data['Project ID']).unique()))\n",
    "print(len(pd.Series(data['Company ID']).unique()))\n",
    "print(len(pd.Series(small['Company ID']).unique()))\n",
    "np.mean(winner['Small Business Preference']) * 100"
   ]
  },
  {
   "cell_type": "code",
   "execution_count": 38,
   "metadata": {},
   "outputs": [
    {
     "name": "stdout",
     "output_type": "stream",
     "text": [
      "5.684058832117042\n",
      "5.732359204838652\n",
      "5.607422240732097\n"
     ]
    }
   ],
   "source": [
    "print(np.mean(data['Log Bid']))\n",
    "print(np.mean(big['Log Bid']))\n",
    "print(np.mean(small['Log Bid']))"
   ]
  },
  {
   "cell_type": "code",
   "execution_count": 39,
   "metadata": {},
   "outputs": [],
   "source": [
    "#data.to_csv('data.csv')"
   ]
  },
  {
   "cell_type": "code",
   "execution_count": 40,
   "metadata": {},
   "outputs": [
    {
     "data": {
      "text/plain": [
       "2.302585092994046"
      ]
     },
     "execution_count": 40,
     "metadata": {},
     "output_type": "execute_result"
    }
   ],
   "source": [
    "math.log(10)"
   ]
  },
  {
   "cell_type": "code",
   "execution_count": null,
   "metadata": {},
   "outputs": [],
   "source": []
  }
 ],
 "metadata": {
  "kernelspec": {
   "display_name": "Python 3",
   "language": "python",
   "name": "python3"
  },
  "language_info": {
   "codemirror_mode": {
    "name": "ipython",
    "version": 3
   },
   "file_extension": ".py",
   "mimetype": "text/x-python",
   "name": "python",
   "nbconvert_exporter": "python",
   "pygments_lexer": "ipython3",
   "version": "3.7.4"
  }
 },
 "nbformat": 4,
 "nbformat_minor": 2
}
